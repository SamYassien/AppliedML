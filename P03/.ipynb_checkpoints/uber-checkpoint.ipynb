{
 "cells": [
  {
   "cell_type": "markdown",
   "id": "4ce4c50b-7865-40c3-9d7e-9c03c6be1e0f",
   "metadata": {},
   "source": [
    "# Uber Fares Dataset"
   ]
  },
  {
   "cell_type": "code",
   "execution_count": 55,
   "id": "764239d7-a652-4503-9ce1-c05456e8dd7f",
   "metadata": {},
   "outputs": [],
   "source": [
    "import numpy as np\n",
    "import pandas as pd\n",
    "import matplotlib.pyplot as plt\n",
    "import tensorflow as tf\n",
    "import tensorflow.keras as keras\n",
    "from sklearn import metrics\n",
    "from sklearn.tree import DecisionTreeClassifier\n",
    "from sklearn.ensemble import RandomForestClassifier\n",
    "from sklearn.neighbors import KNeighborsClassifier\n",
    "from sklearn.linear_model import SGDClassifier\n",
    "from sklearn.decomposition import PCA, TruncatedSVD\n",
    "from sklearn.model_selection import train_test_split, GridSearchCV\n",
    "from sklearn.pipeline import Pipeline\n",
    "from sklearn.preprocessing import StandardScaler, OneHotEncoder\n",
    "from sklearn.compose import ColumnTransformer\n",
    "from sklearn.linear_model import LinearRegression\n",
    "from sklearn.base import BaseEstimator\n",
    "from sklearn.tree import DecisionTreeRegressor\n",
    "from sklearn.ensemble import RandomForestRegressor\n",
    "import seaborn as sns"
   ]
  },
  {
   "cell_type": "markdown",
   "id": "a93da244-aba6-4a7e-9428-1cfa3d1ae612",
   "metadata": {},
   "source": [
    "Load data"
   ]
  },
  {
   "cell_type": "code",
   "execution_count": 2,
   "id": "da614751-941c-4f4b-8b51-2d3caace9015",
   "metadata": {},
   "outputs": [
    {
     "data": {
      "text/html": [
       "<div>\n",
       "<style scoped>\n",
       "    .dataframe tbody tr th:only-of-type {\n",
       "        vertical-align: middle;\n",
       "    }\n",
       "\n",
       "    .dataframe tbody tr th {\n",
       "        vertical-align: top;\n",
       "    }\n",
       "\n",
       "    .dataframe thead th {\n",
       "        text-align: right;\n",
       "    }\n",
       "</style>\n",
       "<table border=\"1\" class=\"dataframe\">\n",
       "  <thead>\n",
       "    <tr style=\"text-align: right;\">\n",
       "      <th></th>\n",
       "      <th>Unnamed: 0</th>\n",
       "      <th>key</th>\n",
       "      <th>fare_amount</th>\n",
       "      <th>pickup_datetime</th>\n",
       "      <th>pickup_longitude</th>\n",
       "      <th>pickup_latitude</th>\n",
       "      <th>dropoff_longitude</th>\n",
       "      <th>dropoff_latitude</th>\n",
       "      <th>passenger_count</th>\n",
       "    </tr>\n",
       "  </thead>\n",
       "  <tbody>\n",
       "    <tr>\n",
       "      <th>0</th>\n",
       "      <td>24238194</td>\n",
       "      <td>2015-05-07 19:52:06.0000003</td>\n",
       "      <td>7.5</td>\n",
       "      <td>2015-05-07 19:52:06 UTC</td>\n",
       "      <td>-73.999817</td>\n",
       "      <td>40.738354</td>\n",
       "      <td>-73.999512</td>\n",
       "      <td>40.723217</td>\n",
       "      <td>1</td>\n",
       "    </tr>\n",
       "    <tr>\n",
       "      <th>1</th>\n",
       "      <td>27835199</td>\n",
       "      <td>2009-07-17 20:04:56.0000002</td>\n",
       "      <td>7.7</td>\n",
       "      <td>2009-07-17 20:04:56 UTC</td>\n",
       "      <td>-73.994355</td>\n",
       "      <td>40.728225</td>\n",
       "      <td>-73.994710</td>\n",
       "      <td>40.750325</td>\n",
       "      <td>1</td>\n",
       "    </tr>\n",
       "    <tr>\n",
       "      <th>2</th>\n",
       "      <td>44984355</td>\n",
       "      <td>2009-08-24 21:45:00.00000061</td>\n",
       "      <td>12.9</td>\n",
       "      <td>2009-08-24 21:45:00 UTC</td>\n",
       "      <td>-74.005043</td>\n",
       "      <td>40.740770</td>\n",
       "      <td>-73.962565</td>\n",
       "      <td>40.772647</td>\n",
       "      <td>1</td>\n",
       "    </tr>\n",
       "    <tr>\n",
       "      <th>3</th>\n",
       "      <td>25894730</td>\n",
       "      <td>2009-06-26 08:22:21.0000001</td>\n",
       "      <td>5.3</td>\n",
       "      <td>2009-06-26 08:22:21 UTC</td>\n",
       "      <td>-73.976124</td>\n",
       "      <td>40.790844</td>\n",
       "      <td>-73.965316</td>\n",
       "      <td>40.803349</td>\n",
       "      <td>3</td>\n",
       "    </tr>\n",
       "    <tr>\n",
       "      <th>4</th>\n",
       "      <td>17610152</td>\n",
       "      <td>2014-08-28 17:47:00.000000188</td>\n",
       "      <td>16.0</td>\n",
       "      <td>2014-08-28 17:47:00 UTC</td>\n",
       "      <td>-73.925023</td>\n",
       "      <td>40.744085</td>\n",
       "      <td>-73.973082</td>\n",
       "      <td>40.761247</td>\n",
       "      <td>5</td>\n",
       "    </tr>\n",
       "  </tbody>\n",
       "</table>\n",
       "</div>"
      ],
      "text/plain": [
       "   Unnamed: 0                            key  fare_amount  \\\n",
       "0    24238194    2015-05-07 19:52:06.0000003          7.5   \n",
       "1    27835199    2009-07-17 20:04:56.0000002          7.7   \n",
       "2    44984355   2009-08-24 21:45:00.00000061         12.9   \n",
       "3    25894730    2009-06-26 08:22:21.0000001          5.3   \n",
       "4    17610152  2014-08-28 17:47:00.000000188         16.0   \n",
       "\n",
       "           pickup_datetime  pickup_longitude  pickup_latitude  \\\n",
       "0  2015-05-07 19:52:06 UTC        -73.999817        40.738354   \n",
       "1  2009-07-17 20:04:56 UTC        -73.994355        40.728225   \n",
       "2  2009-08-24 21:45:00 UTC        -74.005043        40.740770   \n",
       "3  2009-06-26 08:22:21 UTC        -73.976124        40.790844   \n",
       "4  2014-08-28 17:47:00 UTC        -73.925023        40.744085   \n",
       "\n",
       "   dropoff_longitude  dropoff_latitude  passenger_count  \n",
       "0         -73.999512         40.723217                1  \n",
       "1         -73.994710         40.750325                1  \n",
       "2         -73.962565         40.772647                1  \n",
       "3         -73.965316         40.803349                3  \n",
       "4         -73.973082         40.761247                5  "
      ]
     },
     "execution_count": 2,
     "metadata": {},
     "output_type": "execute_result"
    }
   ],
   "source": [
    "data = pd.read_csv('./uber/uber.csv')\n",
    "data.head()"
   ]
  },
  {
   "cell_type": "markdown",
   "id": "022a6c7b-5df2-495c-a14e-34fed7d454e0",
   "metadata": {},
   "source": [
    "Clean data"
   ]
  },
  {
   "cell_type": "code",
   "execution_count": 3,
   "id": "98a9bb87-5cb0-4e3e-9c89-610aaacf4f5a",
   "metadata": {},
   "outputs": [
    {
     "name": "stdout",
     "output_type": "stream",
     "text": [
      "<class 'pandas.core.frame.DataFrame'>\n",
      "RangeIndex: 200000 entries, 0 to 199999\n",
      "Data columns (total 9 columns):\n",
      " #   Column             Non-Null Count   Dtype  \n",
      "---  ------             --------------   -----  \n",
      " 0   Unnamed: 0         200000 non-null  int64  \n",
      " 1   key                200000 non-null  object \n",
      " 2   fare_amount        200000 non-null  float64\n",
      " 3   pickup_datetime    200000 non-null  object \n",
      " 4   pickup_longitude   200000 non-null  float64\n",
      " 5   pickup_latitude    200000 non-null  float64\n",
      " 6   dropoff_longitude  199999 non-null  float64\n",
      " 7   dropoff_latitude   199999 non-null  float64\n",
      " 8   passenger_count    200000 non-null  int64  \n",
      "dtypes: float64(5), int64(2), object(2)\n",
      "memory usage: 13.7+ MB\n"
     ]
    }
   ],
   "source": [
    "data.info()"
   ]
  },
  {
   "cell_type": "code",
   "execution_count": 4,
   "id": "0c530426-8831-4910-bb86-ce488b40a7be",
   "metadata": {},
   "outputs": [
    {
     "name": "stdout",
     "output_type": "stream",
     "text": [
      "<class 'pandas.core.frame.DataFrame'>\n",
      "Int64Index: 199999 entries, 0 to 199999\n",
      "Data columns (total 9 columns):\n",
      " #   Column             Non-Null Count   Dtype  \n",
      "---  ------             --------------   -----  \n",
      " 0   Unnamed: 0         199999 non-null  int64  \n",
      " 1   key                199999 non-null  object \n",
      " 2   fare_amount        199999 non-null  float64\n",
      " 3   pickup_datetime    199999 non-null  object \n",
      " 4   pickup_longitude   199999 non-null  float64\n",
      " 5   pickup_latitude    199999 non-null  float64\n",
      " 6   dropoff_longitude  199999 non-null  float64\n",
      " 7   dropoff_latitude   199999 non-null  float64\n",
      " 8   passenger_count    199999 non-null  int64  \n",
      "dtypes: float64(5), int64(2), object(2)\n",
      "memory usage: 15.3+ MB\n"
     ]
    }
   ],
   "source": [
    "# drop null rows\n",
    "data.dropna(inplace=True)\n",
    "data.info()"
   ]
  },
  {
   "cell_type": "code",
   "execution_count": 5,
   "id": "0a2a04a6-506f-4715-937a-f4396bce626b",
   "metadata": {},
   "outputs": [
    {
     "data": {
      "text/html": [
       "<div>\n",
       "<style scoped>\n",
       "    .dataframe tbody tr th:only-of-type {\n",
       "        vertical-align: middle;\n",
       "    }\n",
       "\n",
       "    .dataframe tbody tr th {\n",
       "        vertical-align: top;\n",
       "    }\n",
       "\n",
       "    .dataframe thead th {\n",
       "        text-align: right;\n",
       "    }\n",
       "</style>\n",
       "<table border=\"1\" class=\"dataframe\">\n",
       "  <thead>\n",
       "    <tr style=\"text-align: right;\">\n",
       "      <th></th>\n",
       "      <th>fare_amount</th>\n",
       "      <th>pickup_datetime</th>\n",
       "      <th>pickup_longitude</th>\n",
       "      <th>pickup_latitude</th>\n",
       "      <th>dropoff_longitude</th>\n",
       "      <th>dropoff_latitude</th>\n",
       "      <th>passenger_count</th>\n",
       "    </tr>\n",
       "  </thead>\n",
       "  <tbody>\n",
       "    <tr>\n",
       "      <th>0</th>\n",
       "      <td>7.5</td>\n",
       "      <td>2015-05-07 19:52:06 UTC</td>\n",
       "      <td>-73.999817</td>\n",
       "      <td>40.738354</td>\n",
       "      <td>-73.999512</td>\n",
       "      <td>40.723217</td>\n",
       "      <td>1</td>\n",
       "    </tr>\n",
       "    <tr>\n",
       "      <th>1</th>\n",
       "      <td>7.7</td>\n",
       "      <td>2009-07-17 20:04:56 UTC</td>\n",
       "      <td>-73.994355</td>\n",
       "      <td>40.728225</td>\n",
       "      <td>-73.994710</td>\n",
       "      <td>40.750325</td>\n",
       "      <td>1</td>\n",
       "    </tr>\n",
       "    <tr>\n",
       "      <th>2</th>\n",
       "      <td>12.9</td>\n",
       "      <td>2009-08-24 21:45:00 UTC</td>\n",
       "      <td>-74.005043</td>\n",
       "      <td>40.740770</td>\n",
       "      <td>-73.962565</td>\n",
       "      <td>40.772647</td>\n",
       "      <td>1</td>\n",
       "    </tr>\n",
       "    <tr>\n",
       "      <th>3</th>\n",
       "      <td>5.3</td>\n",
       "      <td>2009-06-26 08:22:21 UTC</td>\n",
       "      <td>-73.976124</td>\n",
       "      <td>40.790844</td>\n",
       "      <td>-73.965316</td>\n",
       "      <td>40.803349</td>\n",
       "      <td>3</td>\n",
       "    </tr>\n",
       "    <tr>\n",
       "      <th>4</th>\n",
       "      <td>16.0</td>\n",
       "      <td>2014-08-28 17:47:00 UTC</td>\n",
       "      <td>-73.925023</td>\n",
       "      <td>40.744085</td>\n",
       "      <td>-73.973082</td>\n",
       "      <td>40.761247</td>\n",
       "      <td>5</td>\n",
       "    </tr>\n",
       "  </tbody>\n",
       "</table>\n",
       "</div>"
      ],
      "text/plain": [
       "   fare_amount          pickup_datetime  pickup_longitude  pickup_latitude  \\\n",
       "0          7.5  2015-05-07 19:52:06 UTC        -73.999817        40.738354   \n",
       "1          7.7  2009-07-17 20:04:56 UTC        -73.994355        40.728225   \n",
       "2         12.9  2009-08-24 21:45:00 UTC        -74.005043        40.740770   \n",
       "3          5.3  2009-06-26 08:22:21 UTC        -73.976124        40.790844   \n",
       "4         16.0  2014-08-28 17:47:00 UTC        -73.925023        40.744085   \n",
       "\n",
       "   dropoff_longitude  dropoff_latitude  passenger_count  \n",
       "0         -73.999512         40.723217                1  \n",
       "1         -73.994710         40.750325                1  \n",
       "2         -73.962565         40.772647                1  \n",
       "3         -73.965316         40.803349                3  \n",
       "4         -73.973082         40.761247                5  "
      ]
     },
     "execution_count": 5,
     "metadata": {},
     "output_type": "execute_result"
    }
   ],
   "source": [
    "# drop columns 'Unnamed: 0' and 'key' since they are not meaningful to the problem\n",
    "\n",
    "data = data.drop(columns=['Unnamed: 0', 'key'])\n",
    "data.head()"
   ]
  },
  {
   "cell_type": "markdown",
   "id": "229d2878-b8ec-4512-b6e4-d7e1b32d5361",
   "metadata": {},
   "source": [
    "drop rows with invalid latitude and longitude values."
   ]
  },
  {
   "cell_type": "code",
   "execution_count": 6,
   "id": "3c904c36-0533-4c0a-8198-c17c4e925154",
   "metadata": {},
   "outputs": [],
   "source": [
    "data.drop(data[data['pickup_latitude'] > 90].index, inplace = True)\n",
    "data.drop(data[data['pickup_latitude'] < -90].index, inplace = True)\n",
    "data.drop(data[data['pickup_longitude'] > 180].index, inplace = True)\n",
    "data.drop(data[data['pickup_longitude'] < -180].index, inplace = True)"
   ]
  },
  {
   "cell_type": "markdown",
   "id": "83590b84-7438-4431-8b88-86dba980705a",
   "metadata": {},
   "source": [
    "slice the pickup_time variable"
   ]
  },
  {
   "cell_type": "code",
   "execution_count": 7,
   "id": "e78641da-2b92-47ae-9848-2a7eea718a84",
   "metadata": {},
   "outputs": [
    {
     "data": {
      "text/html": [
       "<div>\n",
       "<style scoped>\n",
       "    .dataframe tbody tr th:only-of-type {\n",
       "        vertical-align: middle;\n",
       "    }\n",
       "\n",
       "    .dataframe tbody tr th {\n",
       "        vertical-align: top;\n",
       "    }\n",
       "\n",
       "    .dataframe thead th {\n",
       "        text-align: right;\n",
       "    }\n",
       "</style>\n",
       "<table border=\"1\" class=\"dataframe\">\n",
       "  <thead>\n",
       "    <tr style=\"text-align: right;\">\n",
       "      <th></th>\n",
       "      <th>fare_amount</th>\n",
       "      <th>pickup_longitude</th>\n",
       "      <th>pickup_latitude</th>\n",
       "      <th>dropoff_longitude</th>\n",
       "      <th>dropoff_latitude</th>\n",
       "      <th>passenger_count</th>\n",
       "      <th>year</th>\n",
       "      <th>month</th>\n",
       "      <th>weekday</th>\n",
       "      <th>hour</th>\n",
       "    </tr>\n",
       "  </thead>\n",
       "  <tbody>\n",
       "    <tr>\n",
       "      <th>0</th>\n",
       "      <td>7.5</td>\n",
       "      <td>-73.999817</td>\n",
       "      <td>40.738354</td>\n",
       "      <td>-73.999512</td>\n",
       "      <td>40.723217</td>\n",
       "      <td>1</td>\n",
       "      <td>2015</td>\n",
       "      <td>5</td>\n",
       "      <td>3</td>\n",
       "      <td>19</td>\n",
       "    </tr>\n",
       "    <tr>\n",
       "      <th>1</th>\n",
       "      <td>7.7</td>\n",
       "      <td>-73.994355</td>\n",
       "      <td>40.728225</td>\n",
       "      <td>-73.994710</td>\n",
       "      <td>40.750325</td>\n",
       "      <td>1</td>\n",
       "      <td>2009</td>\n",
       "      <td>7</td>\n",
       "      <td>4</td>\n",
       "      <td>20</td>\n",
       "    </tr>\n",
       "    <tr>\n",
       "      <th>2</th>\n",
       "      <td>12.9</td>\n",
       "      <td>-74.005043</td>\n",
       "      <td>40.740770</td>\n",
       "      <td>-73.962565</td>\n",
       "      <td>40.772647</td>\n",
       "      <td>1</td>\n",
       "      <td>2009</td>\n",
       "      <td>8</td>\n",
       "      <td>0</td>\n",
       "      <td>21</td>\n",
       "    </tr>\n",
       "    <tr>\n",
       "      <th>3</th>\n",
       "      <td>5.3</td>\n",
       "      <td>-73.976124</td>\n",
       "      <td>40.790844</td>\n",
       "      <td>-73.965316</td>\n",
       "      <td>40.803349</td>\n",
       "      <td>3</td>\n",
       "      <td>2009</td>\n",
       "      <td>6</td>\n",
       "      <td>4</td>\n",
       "      <td>8</td>\n",
       "    </tr>\n",
       "    <tr>\n",
       "      <th>4</th>\n",
       "      <td>16.0</td>\n",
       "      <td>-73.925023</td>\n",
       "      <td>40.744085</td>\n",
       "      <td>-73.973082</td>\n",
       "      <td>40.761247</td>\n",
       "      <td>5</td>\n",
       "      <td>2014</td>\n",
       "      <td>8</td>\n",
       "      <td>3</td>\n",
       "      <td>17</td>\n",
       "    </tr>\n",
       "  </tbody>\n",
       "</table>\n",
       "</div>"
      ],
      "text/plain": [
       "   fare_amount  pickup_longitude  pickup_latitude  dropoff_longitude  \\\n",
       "0          7.5        -73.999817        40.738354         -73.999512   \n",
       "1          7.7        -73.994355        40.728225         -73.994710   \n",
       "2         12.9        -74.005043        40.740770         -73.962565   \n",
       "3          5.3        -73.976124        40.790844         -73.965316   \n",
       "4         16.0        -73.925023        40.744085         -73.973082   \n",
       "\n",
       "   dropoff_latitude  passenger_count  year  month  weekday  hour  \n",
       "0         40.723217                1  2015      5        3    19  \n",
       "1         40.750325                1  2009      7        4    20  \n",
       "2         40.772647                1  2009      8        0    21  \n",
       "3         40.803349                3  2009      6        4     8  \n",
       "4         40.761247                5  2014      8        3    17  "
      ]
     },
     "execution_count": 7,
     "metadata": {},
     "output_type": "execute_result"
    }
   ],
   "source": [
    "data['pickup_datetime'] = pd.to_datetime(data['pickup_datetime'])\n",
    "\n",
    "data['year']    = data['pickup_datetime'].dt.year\n",
    "data['month']   = data['pickup_datetime'].dt.month\n",
    "data['weekday'] = data['pickup_datetime'].dt.weekday\n",
    "data['hour']    = data['pickup_datetime'].dt.hour\n",
    "\n",
    "data.drop(columns=['pickup_datetime'], inplace=True)\n",
    "data.head()"
   ]
  },
  {
   "cell_type": "markdown",
   "id": "54a5df62-8e12-44d8-aa4c-8560a643d2fc",
   "metadata": {},
   "source": [
    "function to calculate Haversine distance   \n",
    "https://gist.github.com/rochacbruno/2883505"
   ]
  },
  {
   "cell_type": "code",
   "execution_count": 8,
   "id": "e1ab5865-ac97-4d26-a4ab-cd18012d9ffc",
   "metadata": {},
   "outputs": [],
   "source": [
    "import math\n",
    "def calc_dist(x1, y1, x2, y2):\n",
    "    \n",
    "    lat1, lon1 = x1,y1\n",
    "    lat2, lon2 = x2,y2\n",
    "    radius = 6371 # km\n",
    "\n",
    "    dlat = math.radians(lat2-lat1)\n",
    "    dlon = math.radians(lon2-lon1)\n",
    "    a = math.sin(dlat/2) * math.sin(dlat/2) + math.cos(math.radians(lat1)) \\\n",
    "        * math.cos(math.radians(lat2)) * math.sin(dlon/2) * math.sin(dlon/2)\n",
    "    c = 2 * math.atan2(math.sqrt(a), math.sqrt(1-a))\n",
    "    d = radius * c\n",
    "\n",
    "    return d\n"
   ]
  },
  {
   "cell_type": "code",
   "execution_count": 9,
   "id": "15369d33-5a14-4e6a-975f-80839b8e1360",
   "metadata": {
    "tags": []
   },
   "outputs": [],
   "source": [
    "data['distance'] = [calc_dist(x1,y1,x2,y2) \n",
    "                    for x1,y1,x2,y2 in zip ( data['pickup_latitude'], \n",
    "                                            data['pickup_longitude'],\n",
    "                                            data['dropoff_latitude'],\n",
    "                                            data['dropoff_longitude']\n",
    "                    )]"
   ]
  },
  {
   "cell_type": "code",
   "execution_count": 10,
   "id": "f2b64abf-ed7f-4b04-98c4-f566a3c69521",
   "metadata": {},
   "outputs": [
    {
     "data": {
      "text/plain": [
       "0          1.683323\n",
       "1          2.457590\n",
       "2          5.036377\n",
       "3          1.661683\n",
       "4          4.475450\n",
       "            ...    \n",
       "199995     0.112210\n",
       "199996     1.875050\n",
       "199997    12.850319\n",
       "199998     3.539715\n",
       "199999     5.417783\n",
       "Name: distance, Length: 199989, dtype: float64"
      ]
     },
     "execution_count": 10,
     "metadata": {},
     "output_type": "execute_result"
    }
   ],
   "source": [
    "data['distance']"
   ]
  },
  {
   "cell_type": "code",
   "execution_count": 11,
   "id": "2fde6527-9d2c-4107-b76c-6f1c99146b2e",
   "metadata": {},
   "outputs": [
    {
     "data": {
      "text/plain": [
       "fare_amount          1.000000\n",
       "year                 0.118336\n",
       "distance             0.024725\n",
       "month                0.023792\n",
       "pickup_longitude     0.011635\n",
       "dropoff_longitude    0.011612\n",
       "passenger_count      0.010169\n",
       "weekday              0.007501\n",
       "pickup_latitude     -0.011562\n",
       "dropoff_latitude    -0.012007\n",
       "hour                -0.021487\n",
       "Name: fare_amount, dtype: float64"
      ]
     },
     "execution_count": 11,
     "metadata": {},
     "output_type": "execute_result"
    }
   ],
   "source": [
    "corr_matrix = data.corr()\n",
    "corr_matrix[\"fare_amount\"].sort_values(ascending=False)"
   ]
  },
  {
   "cell_type": "markdown",
   "id": "b8f6c50e-e927-4f66-a7de-5389661e26c0",
   "metadata": {},
   "source": [
    "The distance column ranks high in the correlation matrix."
   ]
  },
  {
   "cell_type": "code",
   "execution_count": 12,
   "id": "4a3a08a9-8677-4226-96b9-2f7bf7aa6d70",
   "metadata": {},
   "outputs": [
    {
     "name": "stdout",
     "output_type": "stream",
     "text": [
      "<class 'pandas.core.frame.DataFrame'>\n",
      "Int64Index: 199989 entries, 0 to 199999\n",
      "Data columns (total 11 columns):\n",
      " #   Column             Non-Null Count   Dtype  \n",
      "---  ------             --------------   -----  \n",
      " 0   fare_amount        199989 non-null  float64\n",
      " 1   pickup_longitude   199989 non-null  float64\n",
      " 2   pickup_latitude    199989 non-null  float64\n",
      " 3   dropoff_longitude  199989 non-null  float64\n",
      " 4   dropoff_latitude   199989 non-null  float64\n",
      " 5   passenger_count    199989 non-null  int64  \n",
      " 6   year               199989 non-null  int64  \n",
      " 7   month              199989 non-null  int64  \n",
      " 8   weekday            199989 non-null  int64  \n",
      " 9   hour               199989 non-null  int64  \n",
      " 10  distance           199989 non-null  float64\n",
      "dtypes: float64(6), int64(5)\n",
      "memory usage: 18.3 MB\n"
     ]
    }
   ],
   "source": [
    "data.info()"
   ]
  },
  {
   "cell_type": "markdown",
   "id": "ce1abd10-5e26-4733-9fc6-c2bbe506b529",
   "metadata": {},
   "source": [
    "identify categorical and numerical data"
   ]
  },
  {
   "cell_type": "code",
   "execution_count": 13,
   "id": "0659f4ca-3443-41f4-b03e-477dd6e16be1",
   "metadata": {},
   "outputs": [],
   "source": [
    "cat_columns = ['passenger_count', 'year', 'month', 'weekday', 'hour']\n",
    "num_columns = ['pickup_longitude', 'pickup_latitude', 'dropoff_longitude', 'dropoff_latitude', 'distance']"
   ]
  },
  {
   "cell_type": "code",
   "execution_count": 14,
   "id": "e564e403-93f5-482d-b1c1-fa6e5e8205d1",
   "metadata": {},
   "outputs": [],
   "source": [
    "y = data['fare_amount']\n",
    "x = data.drop(columns=['fare_amount'])"
   ]
  },
  {
   "cell_type": "markdown",
   "id": "76a57361-dd5a-4237-85b6-07a051c6ab3c",
   "metadata": {},
   "source": [
    "Split data, train:test - 80:20"
   ]
  },
  {
   "cell_type": "code",
   "execution_count": 15,
   "id": "e7991ab6-602f-4cc3-b3ea-acfc701ec2a0",
   "metadata": {},
   "outputs": [
    {
     "name": "stdout",
     "output_type": "stream",
     "text": [
      "X_train shape: (159991, 10)  y_train shape: (159991,)\n",
      "X_test shape: (39998, 10)  y_test shape: (39998,)\n"
     ]
    }
   ],
   "source": [
    "X_train, X_test, y_train, y_test = train_test_split(x, y , test_size=0.2, random_state=42)\n",
    "print(f'X_train shape: {X_train.shape}  y_train shape: {y_train.shape}')\n",
    "print(f'X_test shape: {X_test.shape}  y_test shape: {y_test.shape}')"
   ]
  },
  {
   "cell_type": "markdown",
   "id": "d2ba86e6-8b8a-42c7-8575-518e36b2e7fe",
   "metadata": {},
   "source": [
    "Data preprocessing column transformer"
   ]
  },
  {
   "cell_type": "code",
   "execution_count": 16,
   "id": "3326ee54-9b36-4e60-981e-1a59287d8164",
   "metadata": {},
   "outputs": [],
   "source": [
    "preprocessor = ColumnTransformer(\n",
    "    transformers=[\n",
    "        (\"std_scaler\", StandardScaler(), num_columns),\n",
    "        (\"cat_encoder\", OneHotEncoder(handle_unknown='ignore'), cat_columns),\n",
    "    ]\n",
    ")"
   ]
  },
  {
   "cell_type": "markdown",
   "id": "53903d03-9d17-4876-84d6-40ea1be2a183",
   "metadata": {},
   "source": [
    "Used as a custom estimator to be used in the pipeline."
   ]
  },
  {
   "cell_type": "code",
   "execution_count": 25,
   "id": "18d0fff2-8d3a-4d36-aca5-09c369e40d83",
   "metadata": {},
   "outputs": [],
   "source": [
    "class myClassifier(BaseEstimator):\n",
    "\n",
    "    def __init__(self, estimator = SGDClassifier()):\n",
    "\n",
    "        self.estimator = estimator\n",
    "\n",
    "    def fit(self, X, y=None, **kwargs):\n",
    "        self.estimator.fit(X, y)\n",
    "        return self\n",
    "\n",
    "    def predict(self, X, y=None):\n",
    "        return self.estimator.predict(X)\n",
    "\n",
    "    def predict_proba(self, X):\n",
    "        return self.estimator.predict_proba(X)\n",
    "\n",
    "    def score(self, X, y):\n",
    "        return self.estimator.score(X, y)"
   ]
  },
  {
   "cell_type": "code",
   "execution_count": 32,
   "id": "d990ac21-c5f4-4e86-a02f-6e0a62e6e409",
   "metadata": {},
   "outputs": [],
   "source": [
    "pipeline = Pipeline(\n",
    "    steps=[(\"preprocessor\", preprocessor), \n",
    "           ('clf', myClassifier())]\n",
    ")"
   ]
  },
  {
   "cell_type": "markdown",
   "id": "088114ef-daa1-46bd-9028-ba9388d2a6e5",
   "metadata": {},
   "source": [
    "Use Linear Regression, Decision Tree Regressor, and Random Forest Regressor as parameters to Grid Search Cross Validation. "
   ]
  },
  {
   "cell_type": "code",
   "execution_count": 33,
   "id": "f0b8e3d4-744b-4043-9de2-01422d2216a3",
   "metadata": {},
   "outputs": [],
   "source": [
    "param_grid = [\n",
    "    {\n",
    "        'clf__estimator': [LinearRegression()],\n",
    "    },\n",
    "    {\n",
    "        'clf__estimator': [DecisionTreeRegressor()],\n",
    "    },\n",
    "    {\n",
    "        'clf__estimator': [RandomForestRegressor()],\n",
    "    },\n",
    "]"
   ]
  },
  {
   "cell_type": "markdown",
   "id": "97fd4ae6-e236-4a17-bb04-6e5c627ccfb8",
   "metadata": {},
   "source": [
    "Train the three different models for 10 folds."
   ]
  },
  {
   "cell_type": "code",
   "execution_count": 37,
   "id": "b758cbbb-0931-4e70-9728-ea0c3661658f",
   "metadata": {},
   "outputs": [
    {
     "name": "stdout",
     "output_type": "stream",
     "text": [
      "Fitting 10 folds for each of 3 candidates, totalling 30 fits\n",
      "[CV 3/10] END clf__estimator=LinearRegression();, score=(train=-94.460, test=-93.458) total time=   1.0s\n",
      "[CV 5/10] END clf__estimator=DecisionTreeRegressor();, score=(train=-0.294, test=-37.654) total time= 1.5min\n",
      "[CV 3/10] END clf__estimator=RandomForestRegressor();, score=(train=-2.890, test=-21.430) total time=102.4min\n",
      "[CV 2/10] END clf__estimator=LinearRegression();, score=(train=-94.504, test=-93.077) total time=   1.0s\n",
      "[CV 4/10] END clf__estimator=DecisionTreeRegressor();, score=(train=-0.298, test=-42.253) total time= 1.5min\n",
      "[CV 1/10] END clf__estimator=RandomForestRegressor();, score=(train=-2.866, test=-30.123) total time=102.5min\n",
      "[CV 1/10] END clf__estimator=LinearRegression();, score=(train=-93.540, test=-101.764) total time=   1.0s\n",
      "[CV 10/10] END clf__estimator=LinearRegression();, score=(train=-94.129, test=-96.455) total time=   0.7s\n",
      "[CV 8/10] END clf__estimator=DecisionTreeRegressor();, score=(train=-0.285, test=-35.266) total time= 1.5min\n",
      "[CV 6/10] END clf__estimator=RandomForestRegressor();, score=(train=-3.016, test=-21.091) total time=102.6min\n",
      "[CV 6/10] END clf__estimator=LinearRegression();, score=(train=-93.545, test=-101.693) total time=   1.0s\n",
      "[CV 6/10] END clf__estimator=DecisionTreeRegressor();, score=(train=-0.300, test=-35.434) total time= 1.5min\n",
      "[CV 2/10] END clf__estimator=RandomForestRegressor();, score=(train=-3.025, test=-19.871) total time=102.7min\n",
      "[CV 8/10] END clf__estimator=LinearRegression();, score=(train=-94.956, test=-88.983) total time=   1.0s\n",
      "[CV 1/10] END clf__estimator=DecisionTreeRegressor();, score=(train=-0.290, test=-43.977) total time= 1.5min\n",
      "[CV 10/10] END clf__estimator=DecisionTreeRegressor();, score=(train=-0.304, test=-41.960) total time= 1.6min\n",
      "[CV 8/10] END clf__estimator=RandomForestRegressor();, score=(train=-3.102, test=-17.850) total time=101.9min\n",
      "[CV 5/10] END clf__estimator=LinearRegression();, score=(train=-94.860, test=-89.861) total time=   1.0s\n",
      "[CV 2/10] END clf__estimator=DecisionTreeRegressor();, score=(train=-0.118, test=-34.932) total time= 1.5min\n",
      "[CV 9/10] END clf__estimator=DecisionTreeRegressor();, score=(train=-0.297, test=-31.100) total time= 1.6min\n",
      "[CV 7/10] END clf__estimator=RandomForestRegressor();, score=(train=-3.092, test=-18.364) total time=102.2min\n",
      "[CV 7/10] END clf__estimator=LinearRegression();, score=(train=-94.603, test=-92.159) total time=   1.0s\n",
      "[CV 3/10] END clf__estimator=DecisionTreeRegressor();, score=(train=-0.111, test=-34.413) total time= 1.5min\n",
      "[CV 5/10] END clf__estimator=RandomForestRegressor();, score=(train=-3.094, test=-18.066) total time=101.9min\n",
      "[CV 9/10] END clf__estimator=RandomForestRegressor();, score=(train=-3.075, test=-17.370) total time=48.7min\n",
      "[CV 4/10] END clf__estimator=LinearRegression();, score=(train=-93.916, test=-98.381) total time=   1.0s\n",
      "[CV 9/10] END clf__estimator=LinearRegression();, score=(train=-95.017, test=-88.443) total time=   0.7s\n",
      "[CV 7/10] END clf__estimator=DecisionTreeRegressor();, score=(train=-0.281, test=-40.656) total time= 1.5min\n",
      "[CV 4/10] END clf__estimator=RandomForestRegressor();, score=(train=-3.072, test=-20.610) total time=102.1min\n",
      "[CV 10/10] END clf__estimator=RandomForestRegressor();, score=(train=-3.074, test=-21.786) total time=48.7min\n"
     ]
    },
    {
     "data": {
      "text/plain": [
       "GridSearchCV(cv=10,\n",
       "             estimator=Pipeline(steps=[('preprocessor',\n",
       "                                        ColumnTransformer(transformers=[('std_scaler',\n",
       "                                                                         StandardScaler(),\n",
       "                                                                         ['pickup_longitude',\n",
       "                                                                          'pickup_latitude',\n",
       "                                                                          'dropoff_longitude',\n",
       "                                                                          'dropoff_latitude',\n",
       "                                                                          'distance']),\n",
       "                                                                        ('cat_encoder',\n",
       "                                                                         OneHotEncoder(handle_unknown='ignore'),\n",
       "                                                                         ['passenger_count',\n",
       "                                                                          'year',\n",
       "                                                                          'month',\n",
       "                                                                          'weekday',\n",
       "                                                                          'hour'])])),\n",
       "                                       ('clf', myClassifier())]),\n",
       "             n_jobs=8,\n",
       "             param_grid=[{'clf__estimator': [LinearRegression()]},\n",
       "                         {'clf__estimator': [DecisionTreeRegressor()]},\n",
       "                         {'clf__estimator': [RandomForestRegressor()]}],\n",
       "             return_train_score=True, scoring='neg_mean_squared_error',\n",
       "             verbose=3)"
      ]
     },
     "execution_count": 37,
     "metadata": {},
     "output_type": "execute_result"
    }
   ],
   "source": [
    "gscv = GridSearchCV(pipeline, param_grid, cv=10, n_jobs=8, return_train_score=True, verbose=3, scoring=\"neg_mean_squared_error\")\n",
    "gscv.fit(X_train, y_train)"
   ]
  },
  {
   "cell_type": "code",
   "execution_count": 38,
   "id": "8898102a-dd96-4764-8803-9cc07c2b60df",
   "metadata": {},
   "outputs": [
    {
     "data": {
      "text/plain": [
       "{'mean_fit_time': array([9.00899649e-01, 9.01528694e+01, 5.48670156e+03]),\n",
       " 'std_fit_time': array([1.23267776e-01, 2.15862323e+00, 1.28288643e+03]),\n",
       " 'mean_score_time': array([0.03961055, 0.04875872, 7.97797158]),\n",
       " 'std_score_time': array([0.00528503, 0.00560381, 4.15145662]),\n",
       " 'param_clf__estimator': masked_array(data=[LinearRegression(), DecisionTreeRegressor(),\n",
       "                    RandomForestRegressor()],\n",
       "              mask=[False, False, False],\n",
       "        fill_value='?',\n",
       "             dtype=object),\n",
       " 'params': [{'clf__estimator': LinearRegression()},\n",
       "  {'clf__estimator': DecisionTreeRegressor()},\n",
       "  {'clf__estimator': RandomForestRegressor()}],\n",
       " 'split0_test_score': array([-101.76366475,  -43.97741796,  -30.12270882]),\n",
       " 'split1_test_score': array([-93.0773248 , -34.93219931, -19.87083609]),\n",
       " 'split2_test_score': array([-93.45755967, -34.41327708, -21.43049813]),\n",
       " 'split3_test_score': array([-98.3810271 , -42.25303458, -20.60990012]),\n",
       " 'split4_test_score': array([-89.86093204, -37.65371779, -18.06620983]),\n",
       " 'split5_test_score': array([-101.69335514,  -35.43386585,  -21.09086939]),\n",
       " 'split6_test_score': array([-92.15871583, -40.65612528, -18.36394274]),\n",
       " 'split7_test_score': array([-88.98341785, -35.26645444, -17.85015657]),\n",
       " 'split8_test_score': array([-88.44347434, -31.10013865, -17.37006776]),\n",
       " 'split9_test_score': array([-96.45454643, -41.95962138, -21.78632671]),\n",
       " 'mean_test_score': array([-94.4274018 , -37.76458523, -20.65615162]),\n",
       " 'std_test_score': array([4.69640856, 4.00073152, 3.50620062]),\n",
       " 'rank_test_score': array([3, 2, 1], dtype=int32),\n",
       " 'split0_train_score': array([-93.53977804,  -0.29037721,  -2.86602147]),\n",
       " 'split1_train_score': array([-94.50351867,  -0.11773224,  -3.0250346 ]),\n",
       " 'split2_train_score': array([-94.45973431,  -0.11086409,  -2.8902102 ]),\n",
       " 'split3_train_score': array([-93.91615108,  -0.29821439,  -3.07152862]),\n",
       " 'split4_train_score': array([-94.85969316,  -0.2940195 ,  -3.09423555]),\n",
       " 'split5_train_score': array([-93.54537039,  -0.30012082,  -3.01644621]),\n",
       " 'split6_train_score': array([-94.60328275,  -0.28080896,  -3.09196726]),\n",
       " 'split7_train_score': array([-94.95628605,  -0.28484587,  -3.1018896 ]),\n",
       " 'split8_train_score': array([-95.01742897,  -0.29658346,  -3.07469711]),\n",
       " 'split9_train_score': array([-94.12889031,  -0.30393231,  -3.07366683]),\n",
       " 'mean_train_score': array([-94.35301337,  -0.25774988,  -3.03056974]),\n",
       " 'std_train_score': array([0.52091315, 0.07204155, 0.08086951])}"
      ]
     },
     "execution_count": 38,
     "metadata": {},
     "output_type": "execute_result"
    }
   ],
   "source": [
    "gscv.cv_results_"
   ]
  },
  {
   "cell_type": "code",
   "execution_count": 39,
   "id": "6906a144-724f-4170-8c63-17999ef55dbc",
   "metadata": {},
   "outputs": [
    {
     "data": {
      "text/plain": [
       "Pipeline(steps=[('preprocessor',\n",
       "                 ColumnTransformer(transformers=[('std_scaler',\n",
       "                                                  StandardScaler(),\n",
       "                                                  ['pickup_longitude',\n",
       "                                                   'pickup_latitude',\n",
       "                                                   'dropoff_longitude',\n",
       "                                                   'dropoff_latitude',\n",
       "                                                   'distance']),\n",
       "                                                 ('cat_encoder',\n",
       "                                                  OneHotEncoder(handle_unknown='ignore'),\n",
       "                                                  ['passenger_count', 'year',\n",
       "                                                   'month', 'weekday',\n",
       "                                                   'hour'])])),\n",
       "                ('clf', myClassifier(estimator=RandomForestRegressor()))])"
      ]
     },
     "execution_count": 39,
     "metadata": {},
     "output_type": "execute_result"
    }
   ],
   "source": [
    "final_model = gscv.best_estimator_\n",
    "final_model"
   ]
  },
  {
   "cell_type": "markdown",
   "id": "68dc7b6c-86bb-451a-a0a0-8c315b63c877",
   "metadata": {},
   "source": [
    "Save model"
   ]
  },
  {
   "cell_type": "code",
   "execution_count": 42,
   "id": "e8fb5700-1773-4619-b805-5ef57547e0b8",
   "metadata": {},
   "outputs": [],
   "source": [
    "import pickle\n",
    "pickle.dump(final_model, open('uber_model.sav', 'wb'))"
   ]
  },
  {
   "cell_type": "code",
   "execution_count": 43,
   "id": "59f960e5-9975-4277-8696-6fde5ded468d",
   "metadata": {},
   "outputs": [
    {
     "data": {
      "text/plain": [
       "Pipeline(steps=[('preprocessor',\n",
       "                 ColumnTransformer(transformers=[('std_scaler',\n",
       "                                                  StandardScaler(),\n",
       "                                                  ['pickup_longitude',\n",
       "                                                   'pickup_latitude',\n",
       "                                                   'dropoff_longitude',\n",
       "                                                   'dropoff_latitude',\n",
       "                                                   'distance']),\n",
       "                                                 ('cat_encoder',\n",
       "                                                  OneHotEncoder(handle_unknown='ignore'),\n",
       "                                                  ['passenger_count', 'year',\n",
       "                                                   'month', 'weekday',\n",
       "                                                   'hour'])])),\n",
       "                ('clf', myClassifier(estimator=RandomForestRegressor()))])"
      ]
     },
     "execution_count": 43,
     "metadata": {},
     "output_type": "execute_result"
    }
   ],
   "source": [
    "loaded_model = pickle.load(open('uber_model.sav', 'rb'))\n",
    "loaded_model"
   ]
  },
  {
   "cell_type": "markdown",
   "id": "c7de7d0d-a389-4c0e-9fd0-49f46f71240f",
   "metadata": {},
   "source": [
    "evaluate on test data"
   ]
  },
  {
   "cell_type": "code",
   "execution_count": 47,
   "id": "dff0ba01-6778-4152-9e91-1014715f74fb",
   "metadata": {},
   "outputs": [
    {
     "name": "stdout",
     "output_type": "stream",
     "text": [
      "MSE on test data = 24.602835436949576\n",
      "R-MSE on test data = 4.960124538451588\n"
     ]
    }
   ],
   "source": [
    "y_pred = loaded_model.predict(X_test)\n",
    "acc = metrics.mean_squared_error(y_test, y_pred)\n",
    "print(f'MSE on test data = {acc}')\n",
    "print(f'R-MSE on test data = {np.sqrt(acc)}')"
   ]
  },
  {
   "cell_type": "markdown",
   "id": "a378bae6-6a99-4ec0-be15-36ad21274c6f",
   "metadata": {},
   "source": [
    "Comparing models performance"
   ]
  },
  {
   "cell_type": "code",
   "execution_count": 49,
   "id": "4f77faa7-791e-4d96-a4e3-9653e381e6ae",
   "metadata": {},
   "outputs": [
    {
     "data": {
      "text/html": [
       "<div>\n",
       "<style scoped>\n",
       "    .dataframe tbody tr th:only-of-type {\n",
       "        vertical-align: middle;\n",
       "    }\n",
       "\n",
       "    .dataframe tbody tr th {\n",
       "        vertical-align: top;\n",
       "    }\n",
       "\n",
       "    .dataframe thead th {\n",
       "        text-align: right;\n",
       "    }\n",
       "</style>\n",
       "<table border=\"1\" class=\"dataframe\">\n",
       "  <thead>\n",
       "    <tr style=\"text-align: right;\">\n",
       "      <th></th>\n",
       "      <th>params</th>\n",
       "      <th>rank_test_score</th>\n",
       "      <th>mean_test_score</th>\n",
       "      <th>std_test_score</th>\n",
       "    </tr>\n",
       "    <tr>\n",
       "      <th>kernel</th>\n",
       "      <th></th>\n",
       "      <th></th>\n",
       "      <th></th>\n",
       "      <th></th>\n",
       "    </tr>\n",
       "  </thead>\n",
       "  <tbody>\n",
       "    <tr>\n",
       "      <th>RandomForestRegressor()</th>\n",
       "      <td>{'clf__estimator': RandomForestRegressor()}</td>\n",
       "      <td>1</td>\n",
       "      <td>-20.656152</td>\n",
       "      <td>3.506201</td>\n",
       "    </tr>\n",
       "    <tr>\n",
       "      <th>DecisionTreeRegressor()</th>\n",
       "      <td>{'clf__estimator': DecisionTreeRegressor()}</td>\n",
       "      <td>2</td>\n",
       "      <td>-37.764585</td>\n",
       "      <td>4.000732</td>\n",
       "    </tr>\n",
       "    <tr>\n",
       "      <th>LinearRegression()</th>\n",
       "      <td>{'clf__estimator': LinearRegression()}</td>\n",
       "      <td>3</td>\n",
       "      <td>-94.427402</td>\n",
       "      <td>4.696409</td>\n",
       "    </tr>\n",
       "  </tbody>\n",
       "</table>\n",
       "</div>"
      ],
      "text/plain": [
       "                                                              params  \\\n",
       "kernel                                                                 \n",
       "RandomForestRegressor()  {'clf__estimator': RandomForestRegressor()}   \n",
       "DecisionTreeRegressor()  {'clf__estimator': DecisionTreeRegressor()}   \n",
       "LinearRegression()            {'clf__estimator': LinearRegression()}   \n",
       "\n",
       "                         rank_test_score  mean_test_score  std_test_score  \n",
       "kernel                                                                     \n",
       "RandomForestRegressor()                1       -20.656152        3.506201  \n",
       "DecisionTreeRegressor()                2       -37.764585        4.000732  \n",
       "LinearRegression()                     3       -94.427402        4.696409  "
      ]
     },
     "execution_count": 49,
     "metadata": {},
     "output_type": "execute_result"
    }
   ],
   "source": [
    "results_df = pd.DataFrame(gscv.cv_results_)\n",
    "results_df = results_df.sort_values(by=[\"rank_test_score\"])\n",
    "results_df = results_df.set_index(\n",
    "    results_df[\"params\"].apply(lambda x: \"_\".join(str(val) for val in x.values()))\n",
    ").rename_axis(\"kernel\")\n",
    "results_df[[\"params\", \"rank_test_score\", \"mean_test_score\", \"std_test_score\"]]"
   ]
  },
  {
   "cell_type": "code",
   "execution_count": 58,
   "id": "359c0f67-b18c-46e8-9211-31fe13834932",
   "metadata": {},
   "outputs": [
    {
     "data": {
      "image/png": "[encoded data removed]",
      "text/plain": [
       "<Figure size 720x360 with 1 Axes>"
      ]
     },
     "metadata": {},
     "output_type": "display_data"
    }
   ],
   "source": [
    "#https://scikit-learn.org/stable/auto_examples/model_selection/plot_grid_search_stats.html\n",
    "# create df of model scores ordered by performance\n",
    "model_scores = results_df.filter(regex=r\"split\\d*_test_score\")\n",
    "\n",
    "fig, ax = plt.subplots()\n",
    "sns.set(rc = {'figure.figsize':(10,5)})\n",
    "sns.lineplot(\n",
    "    data=model_scores.transpose().iloc[:],\n",
    "    dashes=False,\n",
    "    palette=\"Set1\",\n",
    "    marker=\"o\",\n",
    "    alpha=0.5,\n",
    "    ax=ax,\n",
    ")\n",
    "ax.set_xlabel(\"CV test fold\", size=12, labelpad=10)\n",
    "ax.set_ylabel(\"Model AUC\", size=12)\n",
    "ax.tick_params(bottom=True, labelbottom=False)\n",
    "plt.show()"
   ]
  }
 ],
 "metadata": {
  "kernelspec": {
   "display_name": "Python 3 (ipykernel)",
   "language": "python",
   "name": "python3"
  },
  "language_info": {
   "codemirror_mode": {
    "name": "ipython",
    "version": 3
   },
   "file_extension": ".py",
   "mimetype": "text/x-python",
   "name": "python",
   "nbconvert_exporter": "python",
   "pygments_lexer": "ipython3",
   "version": "3.8.12"
  }
 },
 "nbformat": 4,
 "nbformat_minor": 5
}
